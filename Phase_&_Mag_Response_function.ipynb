{
  "nbformat": 4,
  "nbformat_minor": 0,
  "metadata": {
    "colab": {
      "name": "Phase & Mag Response function",
      "provenance": [],
      "authorship_tag": "ABX9TyNlM7MPjTX5QMUWZiQXbm4u",
      "include_colab_link": true
    },
    "kernelspec": {
      "name": "python3",
      "display_name": "Python 3"
    },
    "language_info": {
      "name": "python"
    }
  },
  "cells": [
    {
      "cell_type": "markdown",
      "metadata": {
        "id": "view-in-github",
        "colab_type": "text"
      },
      "source": [
        "<a href=\"https://colab.research.google.com/github/APersonalVoyage/APersonalVoyage/blob/main/Phase_%26_Mag_Response_function.ipynb\" target=\"_parent\"><img src=\"https://colab.research.google.com/assets/colab-badge.svg\" alt=\"Open In Colab\"/></a>"
      ]
    },
    {
      "cell_type": "code",
      "metadata": {
        "id": "9nMiq20iKYcB"
      },
      "source": [
        "import matplotlib.pyplot as plt"
      ],
      "execution_count": 36,
      "outputs": []
    },
    {
      "cell_type": "code",
      "metadata": {
        "id": "gmnI0wgW367F"
      },
      "source": [
        "import numpy as np"
      ],
      "execution_count": 37,
      "outputs": []
    },
    {
      "cell_type": "code",
      "metadata": {
        "id": "bp5ipP603-Ab"
      },
      "source": [
        "k = (2*np.pi)/(1064*(10**-9))"
      ],
      "execution_count": 38,
      "outputs": []
    },
    {
      "cell_type": "code",
      "metadata": {
        "id": "blVaNydC5JT2"
      },
      "source": [
        "c = 3 * (10**8) # Speed of light"
      ],
      "execution_count": 39,
      "outputs": []
    },
    {
      "cell_type": "code",
      "metadata": {
        "id": "BN4E3N8j5Ttk"
      },
      "source": [
        "L = 4000  #Arm length"
      ],
      "execution_count": 40,
      "outputs": []
    },
    {
      "cell_type": "code",
      "metadata": {
        "id": "4SMTmggk7YLt"
      },
      "source": [
        "frequency_range = np.arange(50,int(10e5),2)"
      ],
      "execution_count": 44,
      "outputs": []
    },
    {
      "cell_type": "code",
      "metadata": {
        "id": "l3ir10hg5aa3"
      },
      "source": [
        "phase = 2*L*k*np.sinc(2*f*(L/c))*np.cos(2*np.pi*f*(L/c))    #considering only the real part"
      ],
      "execution_count": 42,
      "outputs": []
    },
    {
      "cell_type": "code",
      "metadata": {
        "colab": {
          "base_uri": "https://localhost:8080/",
          "height": 336
        },
        "id": "HIGnhfnN8o8C",
        "outputId": "0548d8c2-e255-4464-f1e4-a1ae1e32e6b5"
      },
      "source": [
        "plt.loglog(frequency_range, phase)\n",
        "plt.title('Magnitude and Phase response')\n",
        "plt.xlabel('Frequency(Hz)')\n",
        "plt.ylabel('∆φrt/h0')"
      ],
      "execution_count": 45,
      "outputs": [
        {
          "output_type": "execute_result",
          "data": {
            "text/plain": [
              "Text(0, 0.5, '∆φrt/h0')"
            ]
          },
          "metadata": {},
          "execution_count": 45
        },
        {
          "output_type": "display_data",
          "data": {
            "image/png": "[encoded data removed]",
            "text/plain": [
              "<Figure size 432x288 with 1 Axes>"
            ]
          },
          "metadata": {
            "needs_background": "light"
          }
        }
      ]
    },
    {
      "cell_type": "code",
      "metadata": {
        "colab": {
          "base_uri": "https://localhost:8080/"
        },
        "id": "guPTi8qg8vHm",
        "outputId": "2a367e0b-cfde-4075-8f71-afbb00c4567a"
      },
      "source": [
        "# null responses\n",
        "min(phase)"
      ],
      "execution_count": 46,
      "outputs": [
        {
          "output_type": "execute_result",
          "data": {
            "text/plain": [
              "-10262549931.788174"
            ]
          },
          "metadata": {},
          "execution_count": 46
        }
      ]
    }
  ]
}